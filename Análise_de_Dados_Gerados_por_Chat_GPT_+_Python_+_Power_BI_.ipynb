{
  "nbformat": 4,
  "nbformat_minor": 0,
  "metadata": {
    "colab": {
      "provenance": [],
      "authorship_tag": "ABX9TyP5cpUsBPIYm0bHz7SCAY3D",
      "include_colab_link": true
    },
    "kernelspec": {
      "name": "python3",
      "display_name": "Python 3"
    },
    "language_info": {
      "name": "python"
    },
    "widgets": {
      "application/vnd.jupyter.widget-state+json": {
        "a7cd3189b2534a19a1ad490e9e9f1673": {
          "model_module": "powerbi-jupyter-client",
          "model_name": "QuickVisualizeModel",
          "model_module_version": "3.0.2",
          "state": {
            "_dom_classes": [],
            "_embed_config": {
              "accessToken": "eyJ0eXAiOiJKV1QiLCJhbGciOiJSUzI1NiIsIng1dCI6Ii1LSTNROW5OUjdiUm9meG1lWm9YcWJIWkdldyIsImtpZCI6Ii1LSTNROW5OUjdiUm9meG1lWm9YcWJIWkdldyJ9.eyJhdWQiOiJodHRwczovL2FuYWx5c2lzLndpbmRvd3MubmV0L3Bvd2VyYmkvYXBpIiwiaXNzIjoiaHR0cHM6Ly9zdHMud2luZG93cy5uZXQvMDhmYjAwMjAtNjc3ZC00NmVjLThlMzctMmMzMDZkOGNmNGYxLyIsImlhdCI6MTY4NzgyNDg1MCwibmJmIjoxNjg3ODI0ODUwLCJleHAiOjE2ODc4Mjk4NzgsImFjY3QiOjAsImFjciI6IjEiLCJhaW8iOiJBVlFBcS84VEFBQUFtOHc5YmhrbzdMSWN5bFpBUzUzYVA2T2hNdzFES3FuKzRvMHVoanpMNStlT09vUUVwVEt0YVJZRU5zOWRZZHh6WWJnT3dEeS9MT252UVRuUHA3NkpYWStpcVJZVmc0TE5ZZjJFaW5ZZkJoRT0iLCJhbXIiOlsicHdkIiwibWZhIl0sImFwcGlkIjoiMWFlYTNmOTctZWRjNi00NDUzLWE1OWItYjg4YjBiODAzNzExIiwiYXBwaWRhY3IiOiIwIiwiZmFtaWx5X25hbWUiOiJPbGl2ZWlyYSIsImdpdmVuX25hbWUiOiJSaWNhcmRvIiwiaXBhZGRyIjoiMzQuOTAuMTYuNDUiLCJuYW1lIjoiUmljYXJkbyBPbGl2ZWlyYSIsIm9pZCI6IjZjZTA2OGQ3LWI3ZjEtNGMzNy1iM2VhLWM2ZTk2Mzc5NzIzMyIsInB1aWQiOiIxMDAzMjAwMUVFNkU5QzI1IiwicmgiOiIwLkFYMEFJQUQ3Q0gxbjdFYU9OeXd3Yll6MDhRa0FBQUFBQUFBQXdBQUFBQUFBQUFDYUFFMC4iLCJzY3AiOiJDb250ZW50LkNyZWF0ZSBEYXRhc2V0LlJlYWRXcml0ZS5BbGwgUmVwb3J0LlJlYWRXcml0ZS5BbGwgV29ya3NwYWNlLlJlYWQuQWxsIiwic3ViIjoiTUdONkNBM2VwanpQcFIzTEhFQ3pCTDFhNnQ2MDZUZy12Q0RvM05Sb19WWSIsInRpZCI6IjA4ZmIwMDIwLTY3N2QtNDZlYy04ZTM3LTJjMzA2ZDhjZjRmMSIsInVuaXF1ZV9uYW1lIjoiUmljYXJkb09saXZlaXJhQGRhdGFsYXBvLm9ubWljcm9zb2Z0LmNvbSIsInVwbiI6IlJpY2FyZG9PbGl2ZWlyYUBkYXRhbGFwby5vbm1pY3Jvc29mdC5jb20iLCJ1dGkiOiJMd1FVN1hKQlJrcUJxanNyaVpScEFBIiwidmVyIjoiMS4wIiwid2lkcyI6WyI2MmU5MDM5NC02OWY1LTQyMzctOTE5MC0wMTIxNzcxNDVlMTAiLCJiNzlmYmY0ZC0zZWY5LTQ2ODktODE0My03NmIxOTRlODU1MDkiXX0.jUMnuwWemzPZqXHmBRudv2jzi7uRJ_qvXPM5cO2npYDZVPoOY7BkXJ18klA7Riz24oJB8JBWPuaaKU7kGUEXDJI6BMo47E6i-Q-2wYmX_3kcsSDj70xdMpAINPn1qBB-3kgIqy-Q3RrttVfRFcGbXnLxzAuNUU6BAEbBb46dnXnJNvNDe8ndIZ8znLAFvYiw_Mw08-TRH-II2mrVTFU2q_4KrCm6XgPfYwslmQeZ4lcmMze_LyM3iKx6pxw2I-s57WbLZyp069k5E68CKXO6IXmWaYfozU2yha8jVvSO09jtUEaXu0orTI9P_Lq9sLQxy_8Ss2oG4eY1swQqbISxnw",
              "datasetCreateConfig": {
                "locale": "en-US",
                "tableSchemaList": [
                  {
                    "name": "Table",
                    "columns": [
                      {
                        "name": "Year",
                        "dataType": "DateTime"
                      },
                      {
                        "name": "Industry",
                        "dataType": "Text"
                      },
                      {
                        "name": "Layers",
                        "dataType": "Text"
                      },
                      {
                        "name": "Country",
                        "dataType": "Text"
                      },
                      {
                        "name": "Revenue",
                        "dataType": "Number"
                      },
                      {
                        "name": "Latitude",
                        "dataType": "Number"
                      },
                      {
                        "name": "Longitude",
                        "dataType": "Number"
                      }
                    ]
                  }
                ],
                "data": [
                  {
                    "name": "Table",
                    "rows": [
                      [
                        "1990-01-01",
                        "Consumer Electronics",
                        "2 Layers",
                        "USA",
                        "2000000",
                        "39.7837304",
                        "-100.445882"
                      ],
                      [
                        "1990-01-01",
                        "Automotive",
                        "4 Layers",
                        "Germany",
                        "500000",
                        "51.1638175",
                        "10.4478313"
                      ],
                      [
                        "1990-01-01",
                        "Industrial",
                        "6 Layers",
                        "China",
                        "1000000",
                        "35.000074",
                        "104.999927"
                      ],
                      [
                        "1990-01-01",
                        "Aerospace & Defense",
                        "8 Layers",
                        "Japan",
                        "500000",
                        "36.5748441",
                        "139.2394179"
                      ],
                      [
                        "1991-01-01",
                        "Consumer Electronics",
                        "2 Layers",
                        "USA",
                        "2500000",
                        "39.7837304",
                        "-100.445882"
                      ],
                      [
                        "1991-01-01",
                        "Automotive",
                        "4 Layers",
                        "Germany",
                        "750000",
                        "51.1638175",
                        "10.4478313"
                      ],
                      [
                        "1991-01-01",
                        "Industrial",
                        "6 Layers",
                        "China",
                        "1500000",
                        "35.000074",
                        "104.999927"
                      ],
                      [
                        "1991-01-01",
                        "Aerospace & Defense",
                        "8 Layers",
                        "Japan",
                        "750000",
                        "36.5748441",
                        "139.2394179"
                      ],
                      [
                        "1992-01-01",
                        "Consumer Electronics",
                        "2 Layers",
                        "USA",
                        "3000000",
                        "39.7837304",
                        "-100.445882"
                      ],
                      [
                        "1992-01-01",
                        "Automotive",
                        "4 Layers",
                        "Germany",
                        "1000000",
                        "51.1638175",
                        "10.4478313"
                      ],
                      [
                        "1992-01-01",
                        "Industrial",
                        "6 Layers",
                        "China",
                        "2000000",
                        "35.000074",
                        "104.999927"
                      ],
                      [
                        "1992-01-01",
                        "Aerospace & Defense",
                        "8 Layers",
                        "Japan",
                        "1000000",
                        "36.5748441",
                        "139.2394179"
                      ],
                      [
                        "1993-01-01",
                        "Consumer Electronics",
                        "2 Layers",
                        "USA",
                        "3500000",
                        "39.7837304",
                        "-100.445882"
                      ],
                      [
                        "1993-01-01",
                        "Automotive",
                        "4 Layers",
                        "Germany",
                        "1250000",
                        "51.1638175",
                        "10.4478313"
                      ],
                      [
                        "1993-01-01",
                        "Industrial",
                        "6 Layers",
                        "China",
                        "2500000",
                        "35.000074",
                        "104.999927"
                      ],
                      [
                        "1993-01-01",
                        "Aerospace & Defense",
                        "8 Layers",
                        "Japan",
                        "1250000",
                        "36.5748441",
                        "139.2394179"
                      ],
                      [
                        "1994-01-01",
                        "Consumer Electronics",
                        "2 Layers",
                        "USA",
                        "4000000",
                        "39.7837304",
                        "-100.445882"
                      ],
                      [
                        "1994-01-01",
                        "Automotive",
                        "4 Layers",
                        "Germany",
                        "1500000",
                        "51.1638175",
                        "10.4478313"
                      ],
                      [
                        "1994-01-01",
                        "Industrial",
                        "6 Layers",
                        "China",
                        "3000000",
                        "35.000074",
                        "104.999927"
                      ],
                      [
                        "1994-01-01",
                        "Aerospace & Defense",
                        "8 Layers",
                        "Japan",
                        "1500000",
                        "36.5748441",
                        "139.2394179"
                      ],
                      [
                        "1995-01-01",
                        "Consumer Electronics",
                        "2 Layers",
                        "USA",
                        "4500000",
                        "39.7837304",
                        "-100.445882"
                      ],
                      [
                        "1995-01-01",
                        "Automotive",
                        "4 Layers",
                        "Germany",
                        "1750000",
                        "51.1638175",
                        "10.4478313"
                      ],
                      [
                        "1995-01-01",
                        "Industrial",
                        "6 Layers",
                        "China",
                        "3500000",
                        "35.000074",
                        "104.999927"
                      ],
                      [
                        "1995-01-01",
                        "Aerospace & Defense",
                        "8 Layers",
                        "Japan",
                        "1750000",
                        "36.5748441",
                        "139.2394179"
                      ],
                      [
                        "1996-01-01",
                        "Consumer Electronics",
                        "2 Layers",
                        "USA",
                        "5000000",
                        "39.7837304",
                        "-100.445882"
                      ],
                      [
                        "1996-01-01",
                        "Automotive",
                        "4 Layers",
                        "Germany",
                        "2000000",
                        "51.1638175",
                        "10.4478313"
                      ],
                      [
                        "1996-01-01",
                        "Industrial",
                        "6 Layers",
                        "China",
                        "4000000",
                        "35.000074",
                        "104.999927"
                      ],
                      [
                        "1996-01-01",
                        "Aerospace & Defense",
                        "8 Layers",
                        "Japan",
                        "2000000",
                        "36.5748441",
                        "139.2394179"
                      ],
                      [
                        "1997-01-01",
                        "Consumer Electronics",
                        "2 Layers",
                        "USA",
                        "5500000",
                        "39.7837304",
                        "-100.445882"
                      ],
                      [
                        "1997-01-01",
                        "Automotive",
                        "4 Layers",
                        "Germany",
                        "2500000",
                        "51.1638175",
                        "10.4478313"
                      ],
                      [
                        "1997-01-01",
                        "Industrial",
                        "6 Layers",
                        "China",
                        "4500000",
                        "35.000074",
                        "104.999927"
                      ],
                      [
                        "1997-01-01",
                        "Aerospace & Defense",
                        "8 Layers",
                        "Japan",
                        "2500000",
                        "36.5748441",
                        "139.2394179"
                      ],
                      [
                        "1998-01-01",
                        "Consumer Electronics",
                        "2 Layers",
                        "USA",
                        "6000000",
                        "39.7837304",
                        "-100.445882"
                      ],
                      [
                        "1998-01-01",
                        "Automotive",
                        "4 Layers",
                        "Germany",
                        "3000000",
                        "51.1638175",
                        "10.4478313"
                      ],
                      [
                        "1998-01-01",
                        "Industrial",
                        "6 Layers",
                        "China",
                        "5000000",
                        "35.000074",
                        "104.999927"
                      ],
                      [
                        "1998-01-01",
                        "Aerospace & Defense",
                        "8 Layers",
                        "Japan",
                        "3000000",
                        "36.5748441",
                        "139.2394179"
                      ],
                      [
                        "1999-01-01",
                        "Consumer Electronics",
                        "2 Layers",
                        "USA",
                        "6500000",
                        "39.7837304",
                        "-100.445882"
                      ],
                      [
                        "1999-01-01",
                        "Automotive",
                        "4 Layers",
                        "Germany",
                        "3500000",
                        "51.1638175",
                        "10.4478313"
                      ],
                      [
                        "1999-01-01",
                        "Industrial",
                        "6 Layers",
                        "China",
                        "6000000",
                        "35.000074",
                        "104.999927"
                      ],
                      [
                        "1999-01-01",
                        "Aerospace & Defense",
                        "8 Layers",
                        "Japan",
                        "3500000",
                        "36.5748441",
                        "139.2394179"
                      ],
                      [
                        "2000-01-01",
                        "Consumer Electronics",
                        "2 Layers",
                        "USA",
                        "7000000",
                        "39.7837304",
                        "-100.445882"
                      ],
                      [
                        "2000-01-01",
                        "Automotive",
                        "4 Layers",
                        "Germany",
                        "4000000",
                        "51.1638175",
                        "10.4478313"
                      ],
                      [
                        "2000-01-01",
                        "Industrial",
                        "6 Layers",
                        "China",
                        "7000000",
                        "35.000074",
                        "104.999927"
                      ],
                      [
                        "2000-01-01",
                        "Aerospace & Defense",
                        "8 Layers",
                        "Japan",
                        "4000000",
                        "36.5748441",
                        "139.2394179"
                      ],
                      [
                        "2001-01-01",
                        "Consumer Electronics",
                        "2 Layers",
                        "USA",
                        "7500000",
                        "39.7837304",
                        "-100.445882"
                      ],
                      [
                        "2001-01-01",
                        "Automotive",
                        "4 Layers",
                        "Germany",
                        "4500000",
                        "51.1638175",
                        "10.4478313"
                      ],
                      [
                        "2001-01-01",
                        "Industrial",
                        "6 Layers",
                        "China",
                        "8000000",
                        "35.000074",
                        "104.999927"
                      ],
                      [
                        "2001-01-01",
                        "Aerospace & Defense",
                        "8 Layers",
                        "Japan",
                        "4500000",
                        "36.5748441",
                        "139.2394179"
                      ],
                      [
                        "2002-01-01",
                        "Consumer Electronics",
                        "2 Layers",
                        "USA",
                        "8000000",
                        "39.7837304",
                        "-100.445882"
                      ],
                      [
                        "2002-01-01",
                        "Automotive",
                        "4 Layers",
                        "Germany",
                        "5000000",
                        "51.1638175",
                        "10.4478313"
                      ],
                      [
                        "2002-01-01",
                        "Industrial",
                        "6 Layers",
                        "China",
                        "9000000",
                        "35.000074",
                        "104.999927"
                      ],
                      [
                        "2002-01-01",
                        "Aerospace & Defense",
                        "8 Layers",
                        "Japan",
                        "5000000",
                        "36.5748441",
                        "139.2394179"
                      ],
                      [
                        "2003-01-01",
                        "Consumer Electronics",
                        "2 Layers",
                        "USA",
                        "8500000",
                        "39.7837304",
                        "-100.445882"
                      ],
                      [
                        "2003-01-01",
                        "Automotive",
                        "4 Layers",
                        "Germany",
                        "6000000",
                        "51.1638175",
                        "10.4478313"
                      ],
                      [
                        "2003-01-01",
                        "Industrial",
                        "6 Layers",
                        "China",
                        "10000000",
                        "35.000074",
                        "104.999927"
                      ],
                      [
                        "2003-01-01",
                        "Aerospace & Defense",
                        "8 Layers",
                        "Japan",
                        "6000000",
                        "36.5748441",
                        "139.2394179"
                      ],
                      [
                        "2004-01-01",
                        "Consumer Electronics",
                        "2 Layers",
                        "USA",
                        "9000000",
                        "39.7837304",
                        "-100.445882"
                      ],
                      [
                        "2004-01-01",
                        "Automotive",
                        "4 Layers",
                        "Germany",
                        "7000000",
                        "51.1638175",
                        "10.4478313"
                      ],
                      [
                        "2004-01-01",
                        "Industrial",
                        "6 Layers",
                        "China",
                        "12000000",
                        "35.000074",
                        "104.999927"
                      ],
                      [
                        "2004-01-01",
                        "Aerospace & Defense",
                        "8 Layers",
                        "Japan",
                        "7000000",
                        "36.5748441",
                        "139.2394179"
                      ],
                      [
                        "2005-01-01",
                        "Consumer Electronics",
                        "2 Layers",
                        "USA",
                        "9500000",
                        "39.7837304",
                        "-100.445882"
                      ],
                      [
                        "2005-01-01",
                        "Automotive",
                        "4 Layers",
                        "Germany",
                        "8000000",
                        "51.1638175",
                        "10.4478313"
                      ],
                      [
                        "2005-01-01",
                        "Industrial",
                        "6 Layers",
                        "China",
                        "13000000",
                        "35.000074",
                        "104.999927"
                      ],
                      [
                        "2005-01-01",
                        "Aerospace & Defense",
                        "8 Layers",
                        "Japan",
                        "8000000",
                        "36.5748441",
                        "139.2394179"
                      ],
                      [
                        "2006-01-01",
                        "Consumer Electronics",
                        "2 Layers",
                        "USA",
                        "10000000",
                        "39.7837304",
                        "-100.445882"
                      ],
                      [
                        "2006-01-01",
                        "Automotive",
                        "4 Layers",
                        "Germany",
                        "9000000",
                        "51.1638175",
                        "10.4478313"
                      ],
                      [
                        "2006-01-01",
                        "Industrial",
                        "6 Layers",
                        "China",
                        "15000000",
                        "35.000074",
                        "104.999927"
                      ],
                      [
                        "2006-01-01",
                        "Aerospace & Defense",
                        "8 Layers",
                        "Japan",
                        "9000000",
                        "36.5748441",
                        "139.2394179"
                      ],
                      [
                        "2007-01-01",
                        "Consumer Electronics",
                        "2 Layers",
                        "USA",
                        "10500000",
                        "39.7837304",
                        "-100.445882"
                      ],
                      [
                        "2007-01-01",
                        "Automotive",
                        "4 Layers",
                        "Germany",
                        "10000000",
                        "51.1638175",
                        "10.4478313"
                      ],
                      [
                        "2007-01-01",
                        "Industrial",
                        "6 Layers",
                        "China",
                        "17000000",
                        "35.000074",
                        "104.999927"
                      ],
                      [
                        "2007-01-01",
                        "Aerospace & Defense",
                        "8 Layers",
                        "Japan",
                        "10000000",
                        "36.5748441",
                        "139.2394179"
                      ],
                      [
                        "2008-01-01",
                        "Consumer Electronics",
                        "2 Layers",
                        "USA",
                        "11000000",
                        "39.7837304",
                        "-100.445882"
                      ],
                      [
                        "2008-01-01",
                        "Automotive",
                        "4 Layers",
                        "Germany",
                        "11000000",
                        "51.1638175",
                        "10.4478313"
                      ],
                      [
                        "2008-01-01",
                        "Industrial",
                        "6 Layers",
                        "China",
                        "19000000",
                        "35.000074",
                        "104.999927"
                      ],
                      [
                        "2008-01-01",
                        "Aerospace & Defense",
                        "8 Layers",
                        "Japan",
                        "11000000",
                        "36.5748441",
                        "139.2394179"
                      ],
                      [
                        "2009-01-01",
                        "Consumer Electronics",
                        "2 Layers",
                        "USA",
                        "11500000",
                        "39.7837304",
                        "-100.445882"
                      ],
                      [
                        "2009-01-01",
                        "Automotive",
                        "4 Layers",
                        "Germany",
                        "12000000",
                        "51.1638175",
                        "10.4478313"
                      ],
                      [
                        "2009-01-01",
                        "Industrial",
                        "6 Layers",
                        "China",
                        "21000000",
                        "35.000074",
                        "104.999927"
                      ],
                      [
                        "2009-01-01",
                        "Aerospace & Defense",
                        "8 Layers",
                        "Japan",
                        "12000000",
                        "36.5748441",
                        "139.2394179"
                      ],
                      [
                        "2010-01-01",
                        "Consumer Electronics",
                        "2 Layers",
                        "USA",
                        "12000000",
                        "39.7837304",
                        "-100.445882"
                      ],
                      [
                        "2010-01-01",
                        "Automotive",
                        "4 Layers",
                        "Germany",
                        "13000000",
                        "51.1638175",
                        "10.4478313"
                      ],
                      [
                        "2010-01-01",
                        "Industrial",
                        "6 Layers",
                        "China",
                        "23000000",
                        "35.000074",
                        "104.999927"
                      ],
                      [
                        "2010-01-01",
                        "Aerospace & Defense",
                        "8 Layers",
                        "Japan",
                        "13000000",
                        "36.5748441",
                        "139.2394179"
                      ],
                      [
                        "2011-01-01",
                        "Consumer Electronics",
                        "2 Layers",
                        "USA",
                        "13500000",
                        "39.7837304",
                        "-100.445882"
                      ],
                      [
                        "2011-01-01",
                        "Automotive",
                        "4 Layers",
                        "Germany",
                        "14000000",
                        "51.1638175",
                        "10.4478313"
                      ],
                      [
                        "2011-01-01",
                        "Industrial",
                        "6 Layers",
                        "China",
                        "25000000",
                        "35.000074",
                        "104.999927"
                      ],
                      [
                        "2011-01-01",
                        "Aerospace & Defense",
                        "8 Layers",
                        "Japan",
                        "14000000",
                        "36.5748441",
                        "139.2394179"
                      ],
                      [
                        "2012-01-01",
                        "Consumer Electronics",
                        "2 Layers",
                        "USA",
                        "14000000",
                        "39.7837304",
                        "-100.445882"
                      ],
                      [
                        "2012-01-01",
                        "Automotive",
                        "4 Layers",
                        "Germany",
                        "15000000",
                        "51.1638175",
                        "10.4478313"
                      ],
                      [
                        "2012-01-01",
                        "Industrial",
                        "6 Layers",
                        "China",
                        "27000000",
                        "35.000074",
                        "104.999927"
                      ],
                      [
                        "2012-01-01",
                        "Aerospace & Defense",
                        "8 Layers",
                        "Japan",
                        "15000000",
                        "36.5748441",
                        "139.2394179"
                      ],
                      [
                        "2013-01-01",
                        "Consumer Electronics",
                        "2 Layers",
                        "USA",
                        "14500000",
                        "39.7837304",
                        "-100.445882"
                      ],
                      [
                        "2013-01-01",
                        "Automotive",
                        "4 Layers",
                        "Germany",
                        "16000000",
                        "51.1638175",
                        "10.4478313"
                      ],
                      [
                        "2013-01-01",
                        "Industrial",
                        "6 Layers",
                        "China",
                        "29000000",
                        "35.000074",
                        "104.999927"
                      ],
                      [
                        "2013-01-01",
                        "Aerospace & Defense",
                        "8 Layers",
                        "Japan",
                        "16000000",
                        "36.5748441",
                        "139.2394179"
                      ],
                      [
                        "2014-01-01",
                        "Consumer Electronics",
                        "2 Layers",
                        "USA",
                        "15000000",
                        "39.7837304",
                        "-100.445882"
                      ],
                      [
                        "2014-01-01",
                        "Automotive",
                        "4 Layers",
                        "Germany",
                        "17000000",
                        "51.1638175",
                        "10.4478313"
                      ],
                      [
                        "2014-01-01",
                        "Industrial",
                        "6 Layers",
                        "China",
                        "31000000",
                        "35.000074",
                        "104.999927"
                      ],
                      [
                        "2014-01-01",
                        "Aerospace & Defense",
                        "8 Layers",
                        "Japan",
                        "17000000",
                        "36.5748441",
                        "139.2394179"
                      ],
                      [
                        "2015-01-01",
                        "Consumer Electronics",
                        "2 Layers",
                        "USA",
                        "15500000",
                        "39.7837304",
                        "-100.445882"
                      ],
                      [
                        "2015-01-01",
                        "Automotive",
                        "4 Layers",
                        "Germany",
                        "18000000",
                        "51.1638175",
                        "10.4478313"
                      ],
                      [
                        "2015-01-01",
                        "Industrial",
                        "6 Layers",
                        "China",
                        "33000000",
                        "35.000074",
                        "104.999927"
                      ],
                      [
                        "2015-01-01",
                        "Aerospace & Defense",
                        "8 Layers",
                        "Japan",
                        "18000000",
                        "36.5748441",
                        "139.2394179"
                      ],
                      [
                        "2016-01-01",
                        "Consumer Electronics",
                        "2 Layers",
                        "USA",
                        "16000000",
                        "39.7837304",
                        "-100.445882"
                      ],
                      [
                        "2016-01-01",
                        "Automotive",
                        "4 Layers",
                        "Germany",
                        "19000000",
                        "51.1638175",
                        "10.4478313"
                      ],
                      [
                        "2016-01-01",
                        "Industrial",
                        "6 Layers",
                        "China",
                        "35000000",
                        "35.000074",
                        "104.999927"
                      ],
                      [
                        "2016-01-01",
                        "Aerospace & Defense",
                        "8 Layers",
                        "Japan",
                        "19000000",
                        "36.5748441",
                        "139.2394179"
                      ],
                      [
                        "2016-01-01",
                        "Consumer Electronics",
                        "2 Layers",
                        "USA",
                        "16000000",
                        "39.7837304",
                        "-100.445882"
                      ],
                      [
                        "2016-01-01",
                        "Automotive",
                        "4 Layers",
                        "Germany",
                        "19000000",
                        "51.1638175",
                        "10.4478313"
                      ],
                      [
                        "2016-01-01",
                        "Industrial",
                        "6 Layers",
                        "China",
                        "35000000",
                        "35.000074",
                        "104.999927"
                      ],
                      [
                        "2016-01-01",
                        "Aerospace & Defense",
                        "8 Layers",
                        "Japan",
                        "19000000",
                        "36.5748441",
                        "139.2394179"
                      ],
                      [
                        "2017-01-01",
                        "Consumer Electronics",
                        "2 Layers",
                        "USA",
                        "16500000",
                        "39.7837304",
                        "-100.445882"
                      ],
                      [
                        "2017-01-01",
                        "Automotive",
                        "4 Layers",
                        "Germany",
                        "20000000",
                        "51.1638175",
                        "10.4478313"
                      ],
                      [
                        "2017-01-01",
                        "Industrial",
                        "6 Layers",
                        "China",
                        "37000000",
                        "35.000074",
                        "104.999927"
                      ],
                      [
                        "2017-01-01",
                        "Aerospace & Defense",
                        "8 Layers",
                        "Japan",
                        "20000000",
                        "36.5748441",
                        "139.2394179"
                      ],
                      [
                        "2018-01-01",
                        "Consumer Electronics",
                        "2 Layers",
                        "USA",
                        "17000000",
                        "39.7837304",
                        "-100.445882"
                      ],
                      [
                        "2018-01-01",
                        "Automotive",
                        "4 Layers",
                        "Germany",
                        "21000000",
                        "51.1638175",
                        "10.4478313"
                      ],
                      [
                        "2018-01-01",
                        "Industrial",
                        "6 Layers",
                        "China",
                        "39000000",
                        "35.000074",
                        "104.999927"
                      ],
                      [
                        "2018-01-01",
                        "Aerospace & Defense",
                        "8 Layers",
                        "Japan",
                        "21000000",
                        "36.5748441",
                        "139.2394179"
                      ],
                      [
                        "2019-01-01",
                        "Consumer Electronics",
                        "2 Layers",
                        "USA",
                        "17500000",
                        "39.7837304",
                        "-100.445882"
                      ],
                      [
                        "2019-01-01",
                        "Automotive",
                        "4 Layers",
                        "Germany",
                        "22000000",
                        "51.1638175",
                        "10.4478313"
                      ],
                      [
                        "2019-01-01",
                        "Industrial",
                        "6 Layers",
                        "China",
                        "41000000",
                        "35.000074",
                        "104.999927"
                      ],
                      [
                        "2019-01-01",
                        "Aerospace & Defense",
                        "8 Layers",
                        "Japan",
                        "22000000",
                        "36.5748441",
                        "139.2394179"
                      ],
                      [
                        "2020-01-01",
                        "Consumer Electronics",
                        "2 Layers",
                        "USA",
                        "18000000",
                        "39.7837304",
                        "-100.445882"
                      ],
                      [
                        "2020-01-01",
                        "Automotive",
                        "4 Layers",
                        "Germany",
                        "23000000",
                        "51.1638175",
                        "10.4478313"
                      ],
                      [
                        "2020-01-01",
                        "Industrial",
                        "6 Layers",
                        "China",
                        "43000000",
                        "35.000074",
                        "104.999927"
                      ],
                      [
                        "2020-01-01",
                        "Aerospace & Defense",
                        "8 Layers",
                        "Japan",
                        "23000000",
                        "36.5748441",
                        "139.2394179"
                      ],
                      [
                        "2021-01-01",
                        "Consumer Electronics",
                        "2 Layers",
                        "USA",
                        "18500000",
                        "39.7837304",
                        "-100.445882"
                      ],
                      [
                        "2021-01-01",
                        "Automotive",
                        "4 Layers",
                        "Germany",
                        "24000000",
                        "51.1638175",
                        "10.4478313"
                      ],
                      [
                        "2021-01-01",
                        "Industrial",
                        "6 Layers",
                        "China",
                        "45000000",
                        "35.000074",
                        "104.999927"
                      ],
                      [
                        "2021-01-01",
                        "Aerospace & Defense",
                        "8 Layers",
                        "Japan",
                        "24000000",
                        "36.5748441",
                        "139.2394179"
                      ],
                      [
                        "2022-01-01",
                        "Consumer Electronics",
                        "2 Layers",
                        "USA",
                        "19000000",
                        "39.7837304",
                        "-100.445882"
                      ],
                      [
                        "2022-01-01",
                        "Automotive",
                        "4 Layers",
                        "Germany",
                        "25000000",
                        "51.1638175",
                        "10.4478313"
                      ],
                      [
                        "2022-01-01",
                        "Industrial",
                        "6 Layers",
                        "China",
                        "47000000",
                        "35.000074",
                        "104.999927"
                      ],
                      [
                        "2022-01-01",
                        "Aerospace & Defense",
                        "8 Layers",
                        "Japan",
                        "25000000",
                        "36.5748441",
                        "139.2394179"
                      ]
                    ]
                  }
                ]
              }
            },
            "_embedded": true,
            "_init_error": "",
            "_model_module": "powerbi-jupyter-client",
            "_model_module_version": "3.0.2",
            "_model_name": "QuickVisualizeModel",
            "_token_expired": false,
            "_view_count": null,
            "_view_module": "powerbi-jupyter-client",
            "_view_module_version": "3.0.2",
            "_view_name": "QuickVisualizeView",
            "container_height": 0,
            "container_width": 0,
            "layout": "IPY_MODEL_05e622d453c14e558cff588604fcd082"
          }
        },
        "05e622d453c14e558cff588604fcd082": {
          "model_module": "@jupyter-widgets/base",
          "model_name": "LayoutModel",
          "model_module_version": "1.2.0",
          "state": {
            "_model_module": "@jupyter-widgets/base",
            "_model_module_version": "1.2.0",
            "_model_name": "LayoutModel",
            "_view_count": null,
            "_view_module": "@jupyter-widgets/base",
            "_view_module_version": "1.2.0",
            "_view_name": "LayoutView",
            "align_content": null,
            "align_items": null,
            "align_self": null,
            "border": null,
            "bottom": null,
            "display": null,
            "flex": null,
            "flex_flow": null,
            "grid_area": null,
            "grid_auto_columns": null,
            "grid_auto_flow": null,
            "grid_auto_rows": null,
            "grid_column": null,
            "grid_gap": null,
            "grid_row": null,
            "grid_template_areas": null,
            "grid_template_columns": null,
            "grid_template_rows": null,
            "height": null,
            "justify_content": null,
            "justify_items": null,
            "left": null,
            "margin": null,
            "max_height": null,
            "max_width": null,
            "min_height": null,
            "min_width": null,
            "object_fit": null,
            "object_position": null,
            "order": null,
            "overflow": null,
            "overflow_x": null,
            "overflow_y": null,
            "padding": null,
            "right": null,
            "top": null,
            "visibility": null,
            "width": null
          }
        }
      }
    }
  },
  "cells": [
    {
      "cell_type": "markdown",
      "metadata": {
        "id": "view-in-github",
        "colab_type": "text"
      },
      "source": [
        "<a href=\"https://colab.research.google.com/github/Ricardinho146/Analise-de-Dados-Gerados-por-Chat-GPT-Python-Power-BI-/blob/main/An%C3%A1lise_de_Dados_Gerados_por_Chat_GPT_%2B_Python_%2B_Power_BI_.ipynb\" target=\"_parent\"><img src=\"https://colab.research.google.com/assets/colab-badge.svg\" alt=\"Open In Colab\"/></a>"
      ]
    },
    {
      "cell_type": "markdown",
      "source": [
        "\n",
        "<figure>\n",
        "<center>\n",
        "<img src='https://github.com/Ricardinho146/Analise-de-Dados-Gerados-por-Chat-GPT-Python-Power-BI-/blob/main/AN%C3%81LISE%20DE%20DADOS%20GERADOS%20POR%20CHATGPT%20+%20PYTHOM%20+%20POWER%20BI%20(1).png?raw=truee' align =\"middle\" height=\"420\" width=\"744\" />\n",
        "</center>\n",
        "</figure>"
      ],
      "metadata": {
        "id": "lbYZIAEv0L37"
      }
    },
    {
      "cell_type": "markdown",
      "source": [
        "# Descrição do Projeto:\n",
        "\n",
        "* **Objetivo:** O objetivo do projeto é testar soluções para a elaboração de dados aleatórios e realizar análises de formas rápidas e simples.\n",
        "\n",
        "* **Recursos:**\n",
        "  * [CHATGPT](https://openai.com/blog/chatgpt);\n",
        "  * [Microsoft Power BI](https://powerbi.microsoft.com/pt-br/landing/free-account/?ef_id=_k_Cj0KCQjwy9-kBhCHARIsAHpBjHi-7KsobIdVb3BvezDrOeYLS-UhHlPyeaGxz7lYuN-1vhWoSwF0rAAaArctEALw_wcB_k_&OCID=AIDcmmk4cy2ahx_SEM__k_Cj0KCQjwy9-kBhCHARIsAHpBjHi-7KsobIdVb3BvezDrOeYLS-UhHlPyeaGxz7lYuN-1vhWoSwF0rAAaArctEALw_wcB_k_&gclid=Cj0KCQjwy9-kBhCHARIsAHpBjHi-7KsobIdVb3BvezDrOeYLS-UhHlPyeaGxz7lYuN-1vhWoSwF0rAAaArctEALw_wcB);\n",
        "\n",
        "* **Biblitecas:**\n",
        "* **CSV**: Utilizado para a elaboração e edição de arquivos no formato *CSV*;\n",
        "* **Geopy**: Utilizado para a extração de Geo localização (Longitude e Latitude);\n",
        "* **Pandas**: Utilizado para a elaboração do DataFrame;\n",
        "* **Powerbiclient**: Utilizado para realizar a integração da plataforma do PowerBI e o Jupyter Notebook."
      ],
      "metadata": {
        "id": "ujWwvCCOfS-_"
      }
    },
    {
      "cell_type": "markdown",
      "source": [
        "# Elaborando os Dados utilizando o CHATGPT:\n",
        "\n",
        "\n",
        "\n",
        "1.   Realizei o acesso ao Website do [CHATGPT](https://openai.com/blog/chatgpt);\n",
        "2.   Solicitei ao CHATGPT que criase dados de vendas mundiais de Placas de Circuitos Impressos em um formato de tabelas;\n",
        "\n",
        "![GPT_Question_1.PNG](data:image/png;base64,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)\n",
        "\n",
        "3.   Em seguida eu solicitei que o dados criados fossem detalhados por pais e seguimento de mercado, pois no primeiro resultado os dados forma agrupados por região;\n",
        "\n",
        "![GPT_Question_2.PNG](data:image/png;base64,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)\n",
        "\n",
        "4.   Então segui solicitando ao chat para converter a tabela em uma lista para a elaboração do arquivo em formato CSV com Python;\n",
        "\n",
        "![GPT_Question_3.PNG](data:image/png;base64,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)\n",
        "\n",
        "5.   Como notei que os dados não continham as informações de  Latitude e Longitide para a elaboração do Dash Board, retornei ao CHATGPT e solicitei a revisão do código em Python para a inclusão dos dados.\n",
        "\n",
        "![GPT_Question_4.PNG](data:image/png;base64,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)\n",
        "\n",
        "![GPT_Question_5.PNG](data:image/png;base64,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)\n",
        "\n",
        "![GPT_Question_6.PNG](data:image/png;base64,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)"
      ],
      "metadata": {
        "id": "SXBhq2DZ5AWE"
      }
    },
    {
      "cell_type": "markdown",
      "source": [
        "<h2> Executando os códigos conforme a orientação do CHATGPT</h2>"
      ],
      "metadata": {
        "id": "crsmISIpAN-h"
      }
    },
    {
      "cell_type": "code",
      "source": [
        "!pip install geopy\n"
      ],
      "metadata": {
        "colab": {
          "base_uri": "https://localhost:8080/"
        },
        "id": "zJ0RD-czMpBb",
        "outputId": "bac0567b-5ca4-4665-d6a0-5d4f10c108ca"
      },
      "execution_count": null,
      "outputs": [
        {
          "output_type": "stream",
          "name": "stdout",
          "text": [
            "Looking in indexes: https://pypi.org/simple, https://us-python.pkg.dev/colab-wheels/public/simple/\n",
            "Requirement already satisfied: geopy in /usr/local/lib/python3.10/dist-packages (2.3.0)\n",
            "Requirement already satisfied: geographiclib<3,>=1.52 in /usr/local/lib/python3.10/dist-packages (from geopy) (2.0)\n"
          ]
        }
      ]
    },
    {
      "cell_type": "code",
      "source": [
        "import csv\n",
        "from geopy.geocoders import Nominatim\n",
        "\n",
        "# Create a list of lists containing the sales data\n",
        "sales_data = [\n",
        "    [\"1990\", \"Consumer Electronics\", \"2 Layers\", \"USA\", \"$2,000,000\"],\n",
        "    [\"1990\", \"Automotive\", \"4 Layers\", \"Germany\", \"$500,000\"],\n",
        "    [\"1990\", \"Industrial\", \"6 Layers\", \"China\", \"$1,000,000\"],\n",
        "    [\"1990\", \"Aerospace & Defense\", \"8 Layers\", \"Japan\", \"$500,000\"],\n",
        "    [\"1991\", \"Consumer Electronics\", \"2 Layers\", \"USA\", \"$2,500,000\"],\n",
        "    [\"1991\", \"Automotive\", \"4 Layers\", \"Germany\", \"$750,000\"],\n",
        "    [\"1991\", \"Industrial\", \"6 Layers\", \"China\", \"$1,500,000\"],\n",
        "    [\"1991\", \"Aerospace & Defense\", \"8 Layers\", \"Japan\", \"$750,000\"],\n",
        "    [\"1992\", \"Consumer Electronics\", \"2 Layers\", \"USA\", \"$3,000,000\"],\n",
        "    [\"1992\", \"Automotive\", \"4 Layers\", \"Germany\", \"$1,000,000\"],\n",
        "    [\"1992\", \"Industrial\", \"6 Layers\", \"China\", \"$2,000,000\"],\n",
        "    [\"1992\", \"Aerospace & Defense\", \"8 Layers\", \"Japan\", \"$1,000,000\"],\n",
        "    [\"1993\", \"Consumer Electronics\", \"2 Layers\", \"USA\", \"$3,500,000\"],\n",
        "    [\"1993\", \"Automotive\", \"4 Layers\", \"Germany\", \"$1,250,000\"],\n",
        "    [\"1993\", \"Industrial\", \"6 Layers\", \"China\", \"$2,500,000\"],\n",
        "    [\"1993\", \"Aerospace & Defense\", \"8 Layers\", \"Japan\", \"$1,250,000\"],\n",
        "    [\"1994\", \"Consumer Electronics\", \"2 Layers\", \"USA\", \"$4,000,000\"],\n",
        "    [\"1994\", \"Automotive\", \"4 Layers\", \"Germany\", \"$1,500,000\"],\n",
        "    [\"1994\", \"Industrial\", \"6 Layers\", \"China\", \"$3,000,000\"],\n",
        "    [\"1994\", \"Aerospace & Defense\", \"8 Layers\", \"Japan\", \"$1,500,000\"],\n",
        "    [\"1995\", \"Consumer Electronics\", \"2 Layers\", \"USA\", \"$4,500,000\"],\n",
        "    [\"1995\", \"Automotive\", \"4 Layers\", \"Germany\", \"$1,750,000\"],\n",
        "    [\"1995\", \"Industrial\", \"6 Layers\", \"China\", \"$3,500,000\"],\n",
        "    [\"1995\", \"Aerospace & Defense\", \"8 Layers\", \"Japan\", \"$1,750,000\"],\n",
        "    [\"1996\", \"Consumer Electronics\", \"2 Layers\", \"USA\", \"$5,000,000\"],\n",
        "    [\"1996\", \"Automotive\", \"4 Layers\", \"Germany\", \"$2,000,000\"],\n",
        "    [\"1996\", \"Industrial\", \"6 Layers\", \"China\", \"$4,000,000\"],\n",
        "    [\"1996\", \"Aerospace & Defense\", \"8 Layers\", \"Japan\", \"$2,000,000\"],\n",
        "    [\"1997\", \"Consumer Electronics\", \"2 Layers\", \"USA\", \"$5,500,000\"],\n",
        "    [\"1997\", \"Automotive\", \"4 Layers\", \"Germany\", \"$2,500,000\"],\n",
        "    [\"1997\", \"Industrial\", \"6 Layers\", \"China\", \"$4,500,000\"],\n",
        "    [\"1997\", \"Aerospace & Defense\", \"8 Layers\", \"Japan\", \"$2,500,000\"],\n",
        "    [\"1998\", \"Consumer Electronics\", \"2 Layers\", \"USA\", \"$6,000,000\"],\n",
        "    [\"1998\", \"Automotive\", \"4 Layers\", \"Germany\", \"$3,000,000\"],\n",
        "    [\"1998\", \"Industrial\", \"6 Layers\", \"China\", \"$5,000,000\"],\n",
        "    [\"1998\", \"Aerospace & Defense\", \"8 Layers\", \"Japan\", \"$3,000,000\"],\n",
        "    [\"1999\", \"Consumer Electronics\", \"2 Layers\", \"USA\", \"$6,500,000\"],\n",
        "    [\"1999\", \"Automotive\", \"4 Layers\", \"Germany\", \"$3,500,000\"],\n",
        "    [\"1999\", \"Industrial\", \"6 Layers\", \"China\", \"$6,000,000\"],\n",
        "    [\"1999\", \"Aerospace & Defense\", \"8 Layers\", \"Japan\", \"$3,500,000\"],\n",
        "    [\"2000\", \"Consumer Electronics\", \"2 Layers\", \"USA\", \"$7,000,000\"],\n",
        "    [\"2000\", \"Automotive\", \"4 Layers\", \"Germany\", \"$4,000,000\"],\n",
        "    [\"2000\", \"Industrial\", \"6 Layers\", \"China\", \"$7,000,000\"],\n",
        "    [\"2000\", \"Aerospace & Defense\", \"8 Layers\", \"Japan\", \"$4,000,000\"],\n",
        "    [\"2001\", \"Consumer Electronics\", \"2 Layers\", \"USA\", \"$7,500,000\"],\n",
        "    [\"2001\", \"Automotive\", \"4 Layers\", \"Germany\", \"$4,500,000\"],\n",
        "    [\"2001\", \"Industrial\", \"6 Layers\", \"China\", \"$8,000,000\"],\n",
        "    [\"2001\", \"Aerospace & Defense\", \"8 Layers\", \"Japan\", \"$4,500,000\"],\n",
        "    [\"2002\", \"Consumer Electronics\", \"2 Layers\", \"USA\", \"$8,000,000\"],\n",
        "    [\"2002\", \"Automotive\", \"4 Layers\", \"Germany\", \"$5,000,000\"],\n",
        "    [\"2002\", \"Industrial\", \"6 Layers\", \"China\", \"$9,000,000\"],\n",
        "    [\"2002\", \"Aerospace & Defense\", \"8 Layers\", \"Japan\", \"$5,000,000\"],\n",
        "    [\"2003\", \"Consumer Electronics\", \"2 Layers\", \"USA\", \"$8,500,000\"],\n",
        "    [\"2003\", \"Automotive\", \"4 Layers\", \"Germany\", \"$6,000,000\"],\n",
        "    [\"2003\", \"Industrial\", \"6 Layers\", \"China\", \"$10,000,000\"],\n",
        "    [\"2003\", \"Aerospace & Defense\", \"8 Layers\", \"Japan\", \"$6,000,000\"],\n",
        "    [\"2004\", \"Consumer Electronics\", \"2 Layers\", \"USA\", \"$9,000,000\"],\n",
        "    [\"2004\", \"Automotive\", \"4 Layers\", \"Germany\", \"$7,000,000\"],\n",
        "    [\"2004\", \"Industrial\", \"6 Layers\", \"China\", \"$12,000,000\"],\n",
        "    [\"2004\", \"Aerospace & Defense\", \"8 Layers\", \"Japan\", \"$7,000,000\"],\n",
        "    [\"2005\", \"Consumer Electronics\", \"2 Layers\", \"USA\", \"$9,500,000\"],\n",
        "    [\"2005\", \"Automotive\", \"4 Layers\", \"Germany\", \"$8,000,000\"],\n",
        "    [\"2005\", \"Industrial\", \"6 Layers\", \"China\", \"$13,000,000\"],\n",
        "    [\"2005\", \"Aerospace & Defense\", \"8 Layers\", \"Japan\", \"$8,000,000\"],\n",
        "    [\"2006\", \"Consumer Electronics\", \"2 Layers\", \"USA\", \"$10,000,000\"],\n",
        "    [\"2006\", \"Automotive\", \"4 Layers\", \"Germany\", \"$9,000,000\"],\n",
        "    [\"2006\", \"Industrial\", \"6 Layers\", \"China\", \"$15,000,000\"],\n",
        "    [\"2006\", \"Aerospace & Defense\", \"8 Layers\", \"Japan\", \"$9,000,000\"],\n",
        "    [\"2007\", \"Consumer Electronics\", \"2 Layers\", \"USA\", \"$10,500,000\"],\n",
        "    [\"2007\", \"Automotive\", \"4 Layers\", \"Germany\", \"$10,000,000\"],\n",
        "    [\"2007\", \"Industrial\", \"6 Layers\", \"China\", \"$17,000,000\"],\n",
        "    [\"2007\", \"Aerospace & Defense\", \"8 Layers\", \"Japan\", \"$10,000,000\"],\n",
        "    [\"2008\", \"Consumer Electronics\", \"2 Layers\", \"USA\", \"$11,000,000\"],\n",
        "    [\"2008\", \"Automotive\", \"4 Layers\", \"Germany\", \"$11,000,000\"],\n",
        "    [\"2008\", \"Industrial\", \"6 Layers\", \"China\", \"$19,000,000\"],\n",
        "    [\"2008\", \"Aerospace & Defense\", \"8 Layers\", \"Japan\", \"$11,000,000\"],\n",
        "    [\"2009\", \"Consumer Electronics\", \"2 Layers\", \"USA\", \"$11,500,000\"],\n",
        "    [\"2009\", \"Automotive\", \"4 Layers\", \"Germany\", \"$12,000,000\"],\n",
        "    [\"2009\", \"Industrial\", \"6 Layers\", \"China\", \"$21,000,000\"],\n",
        "    [\"2009\", \"Aerospace & Defense\", \"8 Layers\", \"Japan\", \"$12,000,000\"],\n",
        "    [\"2010\", \"Consumer Electronics\", \"2 Layers\", \"USA\", \"$12,000,000\"],\n",
        "    [\"2010\", \"Automotive\", \"4 Layers\", \"Germany\", \"$13,000,000\"],\n",
        "    [\"2010\", \"Industrial\", \"6 Layers\", \"China\", \"$23,000,000\"],\n",
        "    [\"2010\", \"Aerospace & Defense\", \"8 Layers\", \"Japan\", \"$13,000,000\"],\n",
        "    [\"2011\", \"Consumer Electronics\", \"2 Layers\", \"USA\", \"$13,500,000\"],\n",
        "    [\"2011\", \"Automotive\", \"4 Layers\", \"Germany\", \"$14,000,000\"],\n",
        "    [\"2011\", \"Industrial\", \"6 Layers\", \"China\", \"$25,000,000\"],\n",
        "    [\"2011\", \"Aerospace & Defense\", \"8 Layers\", \"Japan\", \"$14,000,000\"],\n",
        "    [\"2012\", \"Consumer Electronics\", \"2 Layers\", \"USA\", \"$14,000,000\"],\n",
        "    [\"2012\", \"Automotive\", \"4 Layers\", \"Germany\", \"$15,000,000\"],\n",
        "    [\"2012\", \"Industrial\", \"6 Layers\", \"China\", \"$27,000,000\"],\n",
        "    [\"2012\", \"Aerospace & Defense\", \"8 Layers\", \"Japan\", \"$15,000,000\"],\n",
        "    [\"2013\", \"Consumer Electronics\", \"2 Layers\", \"USA\", \"$14,500,000\"],\n",
        "    [\"2013\", \"Automotive\", \"4 Layers\", \"Germany\", \"$16,000,000\"],\n",
        "    [\"2013\", \"Industrial\", \"6 Layers\", \"China\", \"$29,000,000\"],\n",
        "    [\"2013\", \"Aerospace & Defense\", \"8 Layers\", \"Japan\", \"$16,000,000\"],\n",
        "    [\"2014\", \"Consumer Electronics\", \"2 Layers\", \"USA\", \"$15,000,000\"],\n",
        "    [\"2014\", \"Automotive\", \"4 Layers\", \"Germany\", \"$17,000,000\"],\n",
        "    [\"2014\", \"Industrial\", \"6 Layers\", \"China\", \"$31,000,000\"],\n",
        "    [\"2014\", \"Aerospace & Defense\", \"8 Layers\", \"Japan\", \"$17,000,000\"],\n",
        "    [\"2015\", \"Consumer Electronics\", \"2 Layers\", \"USA\", \"$15,500,000\"],\n",
        "    [\"2015\", \"Automotive\", \"4 Layers\", \"Germany\", \"$18,000,000\"],\n",
        "    [\"2015\", \"Industrial\", \"6 Layers\", \"China\", \"$33,000,000\"],\n",
        "    [\"2015\", \"Aerospace & Defense\", \"8 Layers\", \"Japan\", \"$18,000,000\"],\n",
        "    [\"2016\", \"Consumer Electronics\", \"2 Layers\", \"USA\", \"$16,000,000\"],\n",
        "    [\"2016\", \"Automotive\", \"4 Layers\", \"Germany\", \"$19,000,000\"],\n",
        "    [\"2016\", \"Industrial\", \"6 Layers\", \"China\", \"$35,000,000\"],\n",
        "    [\"2016\", \"Aerospace & Defense\", \"8 Layers\", \"Japan\", \"$19,000,000\"],\n",
        "    [\"2016\", \"Consumer Electronics\", \"2 Layers\", \"USA\", \"$16,000,000\"],\n",
        "    [\"2016\", \"Automotive\", \"4 Layers\", \"Germany\", \"$19,000,000\"],\n",
        "    [\"2016\", \"Industrial\", \"6 Layers\", \"China\", \"$35,000,000\"],\n",
        "    [\"2016\", \"Aerospace & Defense\", \"8 Layers\", \"Japan\", \"$19,000,000\"],\n",
        "    [\"2017\", \"Consumer Electronics\", \"2 Layers\", \"USA\", \"$16,500,000\"],\n",
        "    [\"2017\", \"Automotive\", \"4 Layers\", \"Germany\", \"$20,000,000\"],\n",
        "    [\"2017\", \"Industrial\", \"6 Layers\", \"China\", \"$37,000,000\"],\n",
        "    [\"2017\", \"Aerospace & Defense\", \"8 Layers\", \"Japan\", \"$20,000,000\"],\n",
        "    [\"2018\", \"Consumer Electronics\", \"2 Layers\", \"USA\", \"$17,000,000\"],\n",
        "    [\"2018\", \"Automotive\", \"4 Layers\", \"Germany\", \"$21,000,000\"],\n",
        "    [\"2018\", \"Industrial\", \"6 Layers\", \"China\", \"$39,000,000\"],\n",
        "    [\"2018\", \"Aerospace & Defense\", \"8 Layers\", \"Japan\", \"$21,000,000\"],\n",
        "    [\"2019\", \"Consumer Electronics\", \"2 Layers\", \"USA\", \"$17,500,000\"],\n",
        "    [\"2019\", \"Automotive\", \"4 Layers\", \"Germany\", \"$22,000,000\"],\n",
        "    [\"2019\", \"Industrial\", \"6 Layers\", \"China\", \"$41,000,000\"],\n",
        "    [\"2019\", \"Aerospace & Defense\", \"8 Layers\", \"Japan\", \"$22,000,000\"],\n",
        "    [\"2020\", \"Consumer Electronics\", \"2 Layers\", \"USA\", \"$18,000,000\"],\n",
        "    [\"2020\", \"Automotive\", \"4 Layers\", \"Germany\", \"$23,000,000\"],\n",
        "    [\"2020\", \"Industrial\", \"6 Layers\", \"China\", \"$43,000,000\"],\n",
        "    [\"2020\", \"Aerospace & Defense\", \"8 Layers\", \"Japan\", \"$23,000,000\"],\n",
        "    [\"2021\", \"Consumer Electronics\", \"2 Layers\", \"USA\", \"$18,500,000\"],\n",
        "    [\"2021\", \"Automotive\", \"4 Layers\", \"Germany\", \"$24,000,000\"],\n",
        "    [\"2021\", \"Industrial\", \"6 Layers\", \"China\", \"$45,000,000\"],\n",
        "    [\"2021\", \"Aerospace & Defense\", \"8 Layers\", \"Japan\", \"$24,000,000\"],\n",
        "    [\"2022\", \"Consumer Electronics\", \"2 Layers\", \"USA\", \"$19,000,000\"],\n",
        "    [\"2022\", \"Automotive\", \"4 Layers\", \"Germany\", \"$25,000,000\"],\n",
        "    [\"2022\", \"Industrial\", \"6 Layers\", \"China\", \"$47,000,000\"],\n",
        "    [\"2022\", \"Aerospace & Defense\", \"8 Layers\", \"Japan\", \"$25,000,000\"],\n",
        "    # ...\n",
        "]\n",
        "\n",
        "# Initialize geocoder\n",
        "geolocator = Nominatim(user_agent=\"my_dashboard\")\n",
        "\n",
        "# Add latitude and longitude columns to the sales_data list\n",
        "sales_data_with_coordinates = []\n",
        "sales_data_with_coordinates.append([\"Year\", \"Industry\", \"Layers\", \"Country\", \"Revenue\", \"Latitude\", \"Longitude\"])\n",
        "\n",
        "for item in sales_data:\n",
        "    year, industry, layers, country, revenue = item\n",
        "\n",
        "    # Get the capital's coordinates\n",
        "    location = geolocator.geocode(country, exactly_one=True)\n",
        "\n",
        "    if location is not None:\n",
        "        latitude, longitude = location.latitude, location.longitude\n",
        "    else:\n",
        "        latitude, longitude = None, None\n",
        "\n",
        "    # Append the coordinates to the item\n",
        "    item_with_coordinates = item + [latitude, longitude]\n",
        "\n",
        "    # Append the item to the sales_data_with_coordinates list\n",
        "    sales_data_with_coordinates.append(item_with_coordinates)\n",
        "\n",
        "# Write the sales data with coordinates to a CSV file\n",
        "with open(\"sales_data_with_coordinates.csv\", mode=\"w\", newline=\"\") as file:\n",
        "    writer = csv.writer(file)\n",
        "    writer.writerows(sales_data_with_coordinates)\n"
      ],
      "metadata": {
        "id": "TiixOV1NMwg7"
      },
      "execution_count": null,
      "outputs": []
    },
    {
      "cell_type": "markdown",
      "source": [
        "#Elaborando um data frame Pandas cos dados criados e salvos no arquivo CSV"
      ],
      "metadata": {
        "id": "8sW6LfTbByUH"
      }
    },
    {
      "cell_type": "code",
      "source": [
        "# Importando a Biblioteca Pandas\n",
        "import pandas as pd\n",
        "# Elaborando o DataFrame\n",
        "pcb_sales_df = pd.read_csv(\"/content/sales_data_with_coordinates.csv\")\n",
        "# Visualizando os os dados contidos nas 5 primeiras linhas do DataFrame\n",
        "pcb_sales_df.head()"
      ],
      "metadata": {
        "id": "iYwNz1pE0i3r",
        "colab": {
          "base_uri": "https://localhost:8080/",
          "height": 206
        },
        "outputId": "9b7ee2e2-762c-49a8-c2a2-667fedff8b57"
      },
      "execution_count": null,
      "outputs": [
        {
          "output_type": "execute_result",
          "data": {
            "text/plain": [
              "   Year              Industry    Layers  Country     Revenue   Latitude  \\\n",
              "0  1990  Consumer Electronics  2 Layers      USA  $2,000,000  39.783730   \n",
              "1  1990            Automotive  4 Layers  Germany    $500,000  51.163818   \n",
              "2  1990            Industrial  6 Layers    China  $1,000,000  35.000074   \n",
              "3  1990   Aerospace & Defense  8 Layers    Japan    $500,000  36.574844   \n",
              "4  1991  Consumer Electronics  2 Layers      USA  $2,500,000  39.783730   \n",
              "\n",
              "    Longitude  \n",
              "0 -100.445882  \n",
              "1   10.447831  \n",
              "2  104.999927  \n",
              "3  139.239418  \n",
              "4 -100.445882  "
            ],
            "text/html": [
              "\n",
              "  <div id=\"df-173f0f7d-fde6-487b-a021-2286464a6d33\">\n",
              "    <div class=\"colab-df-container\">\n",
              "      <div>\n",
              "<style scoped>\n",
              "    .dataframe tbody tr th:only-of-type {\n",
              "        vertical-align: middle;\n",
              "    }\n",
              "\n",
              "    .dataframe tbody tr th {\n",
              "        vertical-align: top;\n",
              "    }\n",
              "\n",
              "    .dataframe thead th {\n",
              "        text-align: right;\n",
              "    }\n",
              "</style>\n",
              "<table border=\"1\" class=\"dataframe\">\n",
              "  <thead>\n",
              "    <tr style=\"text-align: right;\">\n",
              "      <th></th>\n",
              "      <th>Year</th>\n",
              "      <th>Industry</th>\n",
              "      <th>Layers</th>\n",
              "      <th>Country</th>\n",
              "      <th>Revenue</th>\n",
              "      <th>Latitude</th>\n",
              "      <th>Longitude</th>\n",
              "    </tr>\n",
              "  </thead>\n",
              "  <tbody>\n",
              "    <tr>\n",
              "      <th>0</th>\n",
              "      <td>1990</td>\n",
              "      <td>Consumer Electronics</td>\n",
              "      <td>2 Layers</td>\n",
              "      <td>USA</td>\n",
              "      <td>$2,000,000</td>\n",
              "      <td>39.783730</td>\n",
              "      <td>-100.445882</td>\n",
              "    </tr>\n",
              "    <tr>\n",
              "      <th>1</th>\n",
              "      <td>1990</td>\n",
              "      <td>Automotive</td>\n",
              "      <td>4 Layers</td>\n",
              "      <td>Germany</td>\n",
              "      <td>$500,000</td>\n",
              "      <td>51.163818</td>\n",
              "      <td>10.447831</td>\n",
              "    </tr>\n",
              "    <tr>\n",
              "      <th>2</th>\n",
              "      <td>1990</td>\n",
              "      <td>Industrial</td>\n",
              "      <td>6 Layers</td>\n",
              "      <td>China</td>\n",
              "      <td>$1,000,000</td>\n",
              "      <td>35.000074</td>\n",
              "      <td>104.999927</td>\n",
              "    </tr>\n",
              "    <tr>\n",
              "      <th>3</th>\n",
              "      <td>1990</td>\n",
              "      <td>Aerospace &amp; Defense</td>\n",
              "      <td>8 Layers</td>\n",
              "      <td>Japan</td>\n",
              "      <td>$500,000</td>\n",
              "      <td>36.574844</td>\n",
              "      <td>139.239418</td>\n",
              "    </tr>\n",
              "    <tr>\n",
              "      <th>4</th>\n",
              "      <td>1991</td>\n",
              "      <td>Consumer Electronics</td>\n",
              "      <td>2 Layers</td>\n",
              "      <td>USA</td>\n",
              "      <td>$2,500,000</td>\n",
              "      <td>39.783730</td>\n",
              "      <td>-100.445882</td>\n",
              "    </tr>\n",
              "  </tbody>\n",
              "</table>\n",
              "</div>\n",
              "      <button class=\"colab-df-convert\" onclick=\"convertToInteractive('df-173f0f7d-fde6-487b-a021-2286464a6d33')\"\n",
              "              title=\"Convert this dataframe to an interactive table.\"\n",
              "              style=\"display:none;\">\n",
              "        \n",
              "  <svg xmlns=\"http://www.w3.org/2000/svg\" height=\"24px\"viewBox=\"0 0 24 24\"\n",
              "       width=\"24px\">\n",
              "    <path d=\"M0 0h24v24H0V0z\" fill=\"none\"/>\n",
              "    <path d=\"M18.56 5.44l.94 2.06.94-2.06 2.06-.94-2.06-.94-.94-2.06-.94 2.06-2.06.94zm-11 1L8.5 8.5l.94-2.06 2.06-.94-2.06-.94L8.5 2.5l-.94 2.06-2.06.94zm10 10l.94 2.06.94-2.06 2.06-.94-2.06-.94-.94-2.06-.94 2.06-2.06.94z\"/><path d=\"M17.41 7.96l-1.37-1.37c-.4-.4-.92-.59-1.43-.59-.52 0-1.04.2-1.43.59L10.3 9.45l-7.72 7.72c-.78.78-.78 2.05 0 2.83L4 21.41c.39.39.9.59 1.41.59.51 0 1.02-.2 1.41-.59l7.78-7.78 2.81-2.81c.8-.78.8-2.07 0-2.86zM5.41 20L4 18.59l7.72-7.72 1.47 1.35L5.41 20z\"/>\n",
              "  </svg>\n",
              "      </button>\n",
              "      \n",
              "  <style>\n",
              "    .colab-df-container {\n",
              "      display:flex;\n",
              "      flex-wrap:wrap;\n",
              "      gap: 12px;\n",
              "    }\n",
              "\n",
              "    .colab-df-convert {\n",
              "      background-color: #E8F0FE;\n",
              "      border: none;\n",
              "      border-radius: 50%;\n",
              "      cursor: pointer;\n",
              "      display: none;\n",
              "      fill: #1967D2;\n",
              "      height: 32px;\n",
              "      padding: 0 0 0 0;\n",
              "      width: 32px;\n",
              "    }\n",
              "\n",
              "    .colab-df-convert:hover {\n",
              "      background-color: #E2EBFA;\n",
              "      box-shadow: 0px 1px 2px rgba(60, 64, 67, 0.3), 0px 1px 3px 1px rgba(60, 64, 67, 0.15);\n",
              "      fill: #174EA6;\n",
              "    }\n",
              "\n",
              "    [theme=dark] .colab-df-convert {\n",
              "      background-color: #3B4455;\n",
              "      fill: #D2E3FC;\n",
              "    }\n",
              "\n",
              "    [theme=dark] .colab-df-convert:hover {\n",
              "      background-color: #434B5C;\n",
              "      box-shadow: 0px 1px 3px 1px rgba(0, 0, 0, 0.15);\n",
              "      filter: drop-shadow(0px 1px 2px rgba(0, 0, 0, 0.3));\n",
              "      fill: #FFFFFF;\n",
              "    }\n",
              "  </style>\n",
              "\n",
              "      <script>\n",
              "        const buttonEl =\n",
              "          document.querySelector('#df-173f0f7d-fde6-487b-a021-2286464a6d33 button.colab-df-convert');\n",
              "        buttonEl.style.display =\n",
              "          google.colab.kernel.accessAllowed ? 'block' : 'none';\n",
              "\n",
              "        async function convertToInteractive(key) {\n",
              "          const element = document.querySelector('#df-173f0f7d-fde6-487b-a021-2286464a6d33');\n",
              "          const dataTable =\n",
              "            await google.colab.kernel.invokeFunction('convertToInteractive',\n",
              "                                                     [key], {});\n",
              "          if (!dataTable) return;\n",
              "\n",
              "          const docLinkHtml = 'Like what you see? Visit the ' +\n",
              "            '<a target=\"_blank\" href=https://colab.research.google.com/notebooks/data_table.ipynb>data table notebook</a>'\n",
              "            + ' to learn more about interactive tables.';\n",
              "          element.innerHTML = '';\n",
              "          dataTable['output_type'] = 'display_data';\n",
              "          await google.colab.output.renderOutput(dataTable, element);\n",
              "          const docLink = document.createElement('div');\n",
              "          docLink.innerHTML = docLinkHtml;\n",
              "          element.appendChild(docLink);\n",
              "        }\n",
              "      </script>\n",
              "    </div>\n",
              "  </div>\n",
              "  "
            ]
          },
          "metadata": {},
          "execution_count": 3
        }
      ]
    },
    {
      "cell_type": "code",
      "source": [
        "# Verificando o tipo de dado armazenda nas colunas do DataFrame\n",
        "pcb_sales_df.info()\n"
      ],
      "metadata": {
        "colab": {
          "base_uri": "https://localhost:8080/"
        },
        "id": "k2u88yDm8oLU",
        "outputId": "702b6e53-98e0-48c2-f019-14a5724eb0c7"
      },
      "execution_count": null,
      "outputs": [
        {
          "output_type": "stream",
          "name": "stdout",
          "text": [
            "<class 'pandas.core.frame.DataFrame'>\n",
            "RangeIndex: 136 entries, 0 to 135\n",
            "Data columns (total 7 columns):\n",
            " #   Column     Non-Null Count  Dtype  \n",
            "---  ------     --------------  -----  \n",
            " 0   Year       136 non-null    int64  \n",
            " 1   Industry   136 non-null    object \n",
            " 2   Layers     136 non-null    object \n",
            " 3   Country    136 non-null    object \n",
            " 4   Revenue    136 non-null    object \n",
            " 5   Latitude   136 non-null    float64\n",
            " 6   Longitude  136 non-null    float64\n",
            "dtypes: float64(2), int64(1), object(4)\n",
            "memory usage: 7.6+ KB\n"
          ]
        }
      ]
    },
    {
      "cell_type": "markdown",
      "source": [
        "Para que os dados estejam adequados para a elaboração do dashboard, apliquei uma conversão dos dados da coluna \"YEAR\" para o Formato \"datetime\" e a coluna \"Revenue\" para \"int64\"."
      ],
      "metadata": {
        "id": "fmd4EuglD6w3"
      }
    },
    {
      "cell_type": "code",
      "source": [
        "pcb_sales_df['Year'] = pd.to_datetime(pcb_sales_df['Year'], format='%Y')\n",
        "\n",
        "pcb_sales_df['Revenue'] = pcb_sales_df['Revenue'].str.replace('$', '').str.replace(',', '')\n",
        "\n",
        "pcb_sales_df['Revenue'] = pcb_sales_df['Revenue'].astype('int64')\n",
        "\n",
        "pcb_sales_df.info()\n"
      ],
      "metadata": {
        "colab": {
          "base_uri": "https://localhost:8080/"
        },
        "id": "xYbS6XYUPBLk",
        "outputId": "2180afaf-bffe-47e2-a12c-122c9b66a28b"
      },
      "execution_count": null,
      "outputs": [
        {
          "output_type": "stream",
          "name": "stdout",
          "text": [
            "<class 'pandas.core.frame.DataFrame'>\n",
            "RangeIndex: 136 entries, 0 to 135\n",
            "Data columns (total 7 columns):\n",
            " #   Column     Non-Null Count  Dtype         \n",
            "---  ------     --------------  -----         \n",
            " 0   Year       136 non-null    datetime64[ns]\n",
            " 1   Industry   136 non-null    object        \n",
            " 2   Layers     136 non-null    object        \n",
            " 3   Country    136 non-null    object        \n",
            " 4   Revenue    136 non-null    int64         \n",
            " 5   Latitude   136 non-null    float64       \n",
            " 6   Longitude  136 non-null    float64       \n",
            "dtypes: datetime64[ns](1), float64(2), int64(1), object(3)\n",
            "memory usage: 7.6+ KB\n"
          ]
        },
        {
          "output_type": "stream",
          "name": "stderr",
          "text": [
            "<ipython-input-5-5e05561ff9c4>:3: FutureWarning: The default value of regex will change from True to False in a future version. In addition, single character regular expressions will *not* be treated as literal strings when regex=True.\n",
            "  pcb_sales_df['Revenue'] = pcb_sales_df['Revenue'].str.replace('$', '').str.replace(',', '')\n"
          ]
        }
      ]
    },
    {
      "cell_type": "markdown",
      "source": [
        "# Integração com o Power BI\n",
        "\n",
        "As ações abaixo foram realizadas com base na orientações desse artigo do site da Microsoft.\n",
        "\n",
        "[Create Power BI reports in Jupyter Notebooks](https://powerbi.microsoft.com/pt-br/blog/create-power-bi-reports-in-jupyter-notebooks/)"
      ],
      "metadata": {
        "id": "WvLRFPQ9FFjA"
      }
    },
    {
      "cell_type": "markdown",
      "source": [
        "Realize a Instalação da Bibliteca **powerbiclient**."
      ],
      "metadata": {
        "id": "pbo42mVoHiQG"
      }
    },
    {
      "cell_type": "code",
      "source": [
        "!pip install powerbiclient"
      ],
      "metadata": {
        "colab": {
          "base_uri": "https://localhost:8080/"
        },
        "id": "n5_0pQERG8lQ",
        "outputId": "672f3a2c-46f5-4342-d556-e10c6388bfe7"
      },
      "execution_count": null,
      "outputs": [
        {
          "output_type": "stream",
          "name": "stdout",
          "text": [
            "Looking in indexes: https://pypi.org/simple, https://us-python.pkg.dev/colab-wheels/public/simple/\n",
            "Collecting powerbiclient\n",
            "  Downloading powerbiclient-3.0.2-py2.py3-none-any.whl (679 kB)\n",
            "\u001b[2K     \u001b[90m━━━━━━━━━━━━━━━━━━━━━━━━━━━━━━━━━━━━━━\u001b[0m \u001b[32m679.0/679.0 kB\u001b[0m \u001b[31m16.3 MB/s\u001b[0m eta \u001b[36m0:00:00\u001b[0m\n",
            "\u001b[?25hRequirement already satisfied: ipywidgets>=7.0.0 in /usr/local/lib/python3.10/dist-packages (from powerbiclient) (7.7.1)\n",
            "Collecting jupyter-ui-poll>=0.1.2 (from powerbiclient)\n",
            "  Downloading jupyter_ui_poll-0.2.2-py2.py3-none-any.whl (9.0 kB)\n",
            "Collecting msal>=1.8.0 (from powerbiclient)\n",
            "  Downloading msal-1.22.0-py2.py3-none-any.whl (90 kB)\n",
            "\u001b[2K     \u001b[90m━━━━━━━━━━━━━━━━━━━━━━━━━━━━━━━━━━━━━━━━\u001b[0m \u001b[32m90.0/90.0 kB\u001b[0m \u001b[31m8.9 MB/s\u001b[0m eta \u001b[36m0:00:00\u001b[0m\n",
            "\u001b[?25hRequirement already satisfied: requests>=2.25.1 in /usr/local/lib/python3.10/dist-packages (from powerbiclient) (2.27.1)\n",
            "Requirement already satisfied: pandas in /usr/local/lib/python3.10/dist-packages (from powerbiclient) (1.5.3)\n",
            "Requirement already satisfied: ipykernel>=4.5.1 in /usr/local/lib/python3.10/dist-packages (from ipywidgets>=7.0.0->powerbiclient) (5.5.6)\n",
            "Requirement already satisfied: ipython-genutils~=0.2.0 in /usr/local/lib/python3.10/dist-packages (from ipywidgets>=7.0.0->powerbiclient) (0.2.0)\n",
            "Requirement already satisfied: traitlets>=4.3.1 in /usr/local/lib/python3.10/dist-packages (from ipywidgets>=7.0.0->powerbiclient) (5.7.1)\n",
            "Requirement already satisfied: widgetsnbextension~=3.6.0 in /usr/local/lib/python3.10/dist-packages (from ipywidgets>=7.0.0->powerbiclient) (3.6.4)\n",
            "Requirement already satisfied: ipython>=4.0.0 in /usr/local/lib/python3.10/dist-packages (from ipywidgets>=7.0.0->powerbiclient) (7.34.0)\n",
            "Requirement already satisfied: jupyterlab-widgets>=1.0.0 in /usr/local/lib/python3.10/dist-packages (from ipywidgets>=7.0.0->powerbiclient) (3.0.7)\n",
            "Collecting PyJWT[crypto]<3,>=1.0.0 (from msal>=1.8.0->powerbiclient)\n",
            "  Downloading PyJWT-2.7.0-py3-none-any.whl (22 kB)\n",
            "Collecting cryptography<43,>=0.6 (from msal>=1.8.0->powerbiclient)\n",
            "  Downloading cryptography-41.0.1-cp37-abi3-manylinux_2_28_x86_64.whl (4.3 MB)\n",
            "\u001b[2K     \u001b[90m━━━━━━━━━━━━━━━━━━━━━━━━━━━━━━━━━━━━━━━━\u001b[0m \u001b[32m4.3/4.3 MB\u001b[0m \u001b[31m80.9 MB/s\u001b[0m eta \u001b[36m0:00:00\u001b[0m\n",
            "\u001b[?25hRequirement already satisfied: urllib3<1.27,>=1.21.1 in /usr/local/lib/python3.10/dist-packages (from requests>=2.25.1->powerbiclient) (1.26.16)\n",
            "Requirement already satisfied: certifi>=2017.4.17 in /usr/local/lib/python3.10/dist-packages (from requests>=2.25.1->powerbiclient) (2023.5.7)\n",
            "Requirement already satisfied: charset-normalizer~=2.0.0 in /usr/local/lib/python3.10/dist-packages (from requests>=2.25.1->powerbiclient) (2.0.12)\n",
            "Requirement already satisfied: idna<4,>=2.5 in /usr/local/lib/python3.10/dist-packages (from requests>=2.25.1->powerbiclient) (3.4)\n",
            "Requirement already satisfied: python-dateutil>=2.8.1 in /usr/local/lib/python3.10/dist-packages (from pandas->powerbiclient) (2.8.2)\n",
            "Requirement already satisfied: pytz>=2020.1 in /usr/local/lib/python3.10/dist-packages (from pandas->powerbiclient) (2022.7.1)\n",
            "Requirement already satisfied: numpy>=1.21.0 in /usr/local/lib/python3.10/dist-packages (from pandas->powerbiclient) (1.22.4)\n",
            "Requirement already satisfied: cffi>=1.12 in /usr/local/lib/python3.10/dist-packages (from cryptography<43,>=0.6->msal>=1.8.0->powerbiclient) (1.15.1)\n",
            "Requirement already satisfied: jupyter-client in /usr/local/lib/python3.10/dist-packages (from ipykernel>=4.5.1->ipywidgets>=7.0.0->powerbiclient) (6.1.12)\n",
            "Requirement already satisfied: tornado>=4.2 in /usr/local/lib/python3.10/dist-packages (from ipykernel>=4.5.1->ipywidgets>=7.0.0->powerbiclient) (6.3.1)\n",
            "Requirement already satisfied: setuptools>=18.5 in /usr/local/lib/python3.10/dist-packages (from ipython>=4.0.0->ipywidgets>=7.0.0->powerbiclient) (67.7.2)\n",
            "Collecting jedi>=0.16 (from ipython>=4.0.0->ipywidgets>=7.0.0->powerbiclient)\n",
            "  Downloading jedi-0.18.2-py2.py3-none-any.whl (1.6 MB)\n",
            "\u001b[2K     \u001b[90m━━━━━━━━━━━━━━━━━━━━━━━━━━━━━━━━━━━━━━━━\u001b[0m \u001b[32m1.6/1.6 MB\u001b[0m \u001b[31m66.3 MB/s\u001b[0m eta \u001b[36m0:00:00\u001b[0m\n",
            "\u001b[?25hRequirement already satisfied: decorator in /usr/local/lib/python3.10/dist-packages (from ipython>=4.0.0->ipywidgets>=7.0.0->powerbiclient) (4.4.2)\n",
            "Requirement already satisfied: pickleshare in /usr/local/lib/python3.10/dist-packages (from ipython>=4.0.0->ipywidgets>=7.0.0->powerbiclient) (0.7.5)\n",
            "Requirement already satisfied: prompt-toolkit!=3.0.0,!=3.0.1,<3.1.0,>=2.0.0 in /usr/local/lib/python3.10/dist-packages (from ipython>=4.0.0->ipywidgets>=7.0.0->powerbiclient) (3.0.38)\n",
            "Requirement already satisfied: pygments in /usr/local/lib/python3.10/dist-packages (from ipython>=4.0.0->ipywidgets>=7.0.0->powerbiclient) (2.14.0)\n",
            "Requirement already satisfied: backcall in /usr/local/lib/python3.10/dist-packages (from ipython>=4.0.0->ipywidgets>=7.0.0->powerbiclient) (0.2.0)\n",
            "Requirement already satisfied: matplotlib-inline in /usr/local/lib/python3.10/dist-packages (from ipython>=4.0.0->ipywidgets>=7.0.0->powerbiclient) (0.1.6)\n",
            "Requirement already satisfied: pexpect>4.3 in /usr/local/lib/python3.10/dist-packages (from ipython>=4.0.0->ipywidgets>=7.0.0->powerbiclient) (4.8.0)\n",
            "Requirement already satisfied: six>=1.5 in /usr/local/lib/python3.10/dist-packages (from python-dateutil>=2.8.1->pandas->powerbiclient) (1.16.0)\n",
            "Requirement already satisfied: notebook>=4.4.1 in /usr/local/lib/python3.10/dist-packages (from widgetsnbextension~=3.6.0->ipywidgets>=7.0.0->powerbiclient) (6.4.8)\n",
            "Requirement already satisfied: pycparser in /usr/local/lib/python3.10/dist-packages (from cffi>=1.12->cryptography<43,>=0.6->msal>=1.8.0->powerbiclient) (2.21)\n",
            "Requirement already satisfied: parso<0.9.0,>=0.8.0 in /usr/local/lib/python3.10/dist-packages (from jedi>=0.16->ipython>=4.0.0->ipywidgets>=7.0.0->powerbiclient) (0.8.3)\n",
            "Requirement already satisfied: jinja2 in /usr/local/lib/python3.10/dist-packages (from notebook>=4.4.1->widgetsnbextension~=3.6.0->ipywidgets>=7.0.0->powerbiclient) (3.1.2)\n",
            "Requirement already satisfied: pyzmq>=17 in /usr/local/lib/python3.10/dist-packages (from notebook>=4.4.1->widgetsnbextension~=3.6.0->ipywidgets>=7.0.0->powerbiclient) (23.2.1)\n",
            "Requirement already satisfied: argon2-cffi in /usr/local/lib/python3.10/dist-packages (from notebook>=4.4.1->widgetsnbextension~=3.6.0->ipywidgets>=7.0.0->powerbiclient) (21.3.0)\n",
            "Requirement already satisfied: jupyter-core>=4.6.1 in /usr/local/lib/python3.10/dist-packages (from notebook>=4.4.1->widgetsnbextension~=3.6.0->ipywidgets>=7.0.0->powerbiclient) (5.3.1)\n",
            "Requirement already satisfied: nbformat in /usr/local/lib/python3.10/dist-packages (from notebook>=4.4.1->widgetsnbextension~=3.6.0->ipywidgets>=7.0.0->powerbiclient) (5.9.0)\n",
            "Requirement already satisfied: nbconvert in /usr/local/lib/python3.10/dist-packages (from notebook>=4.4.1->widgetsnbextension~=3.6.0->ipywidgets>=7.0.0->powerbiclient) (6.5.4)\n",
            "Requirement already satisfied: nest-asyncio>=1.5 in /usr/local/lib/python3.10/dist-packages (from notebook>=4.4.1->widgetsnbextension~=3.6.0->ipywidgets>=7.0.0->powerbiclient) (1.5.6)\n",
            "Requirement already satisfied: Send2Trash>=1.8.0 in /usr/local/lib/python3.10/dist-packages (from notebook>=4.4.1->widgetsnbextension~=3.6.0->ipywidgets>=7.0.0->powerbiclient) (1.8.2)\n",
            "Requirement already satisfied: terminado>=0.8.3 in /usr/local/lib/python3.10/dist-packages (from notebook>=4.4.1->widgetsnbextension~=3.6.0->ipywidgets>=7.0.0->powerbiclient) (0.17.1)\n",
            "Requirement already satisfied: prometheus-client in /usr/local/lib/python3.10/dist-packages (from notebook>=4.4.1->widgetsnbextension~=3.6.0->ipywidgets>=7.0.0->powerbiclient) (0.17.0)\n",
            "Requirement already satisfied: ptyprocess>=0.5 in /usr/local/lib/python3.10/dist-packages (from pexpect>4.3->ipython>=4.0.0->ipywidgets>=7.0.0->powerbiclient) (0.7.0)\n",
            "Requirement already satisfied: wcwidth in /usr/local/lib/python3.10/dist-packages (from prompt-toolkit!=3.0.0,!=3.0.1,<3.1.0,>=2.0.0->ipython>=4.0.0->ipywidgets>=7.0.0->powerbiclient) (0.2.6)\n",
            "Requirement already satisfied: platformdirs>=2.5 in /usr/local/lib/python3.10/dist-packages (from jupyter-core>=4.6.1->notebook>=4.4.1->widgetsnbextension~=3.6.0->ipywidgets>=7.0.0->powerbiclient) (3.7.0)\n",
            "Requirement already satisfied: argon2-cffi-bindings in /usr/local/lib/python3.10/dist-packages (from argon2-cffi->notebook>=4.4.1->widgetsnbextension~=3.6.0->ipywidgets>=7.0.0->powerbiclient) (21.2.0)\n",
            "Requirement already satisfied: MarkupSafe>=2.0 in /usr/local/lib/python3.10/dist-packages (from jinja2->notebook>=4.4.1->widgetsnbextension~=3.6.0->ipywidgets>=7.0.0->powerbiclient) (2.1.3)\n",
            "Requirement already satisfied: lxml in /usr/local/lib/python3.10/dist-packages (from nbconvert->notebook>=4.4.1->widgetsnbextension~=3.6.0->ipywidgets>=7.0.0->powerbiclient) (4.9.2)\n",
            "Requirement already satisfied: beautifulsoup4 in /usr/local/lib/python3.10/dist-packages (from nbconvert->notebook>=4.4.1->widgetsnbextension~=3.6.0->ipywidgets>=7.0.0->powerbiclient) (4.11.2)\n",
            "Requirement already satisfied: bleach in /usr/local/lib/python3.10/dist-packages (from nbconvert->notebook>=4.4.1->widgetsnbextension~=3.6.0->ipywidgets>=7.0.0->powerbiclient) (6.0.0)\n",
            "Requirement already satisfied: defusedxml in /usr/local/lib/python3.10/dist-packages (from nbconvert->notebook>=4.4.1->widgetsnbextension~=3.6.0->ipywidgets>=7.0.0->powerbiclient) (0.7.1)\n",
            "Requirement already satisfied: entrypoints>=0.2.2 in /usr/local/lib/python3.10/dist-packages (from nbconvert->notebook>=4.4.1->widgetsnbextension~=3.6.0->ipywidgets>=7.0.0->powerbiclient) (0.4)\n",
            "Requirement already satisfied: jupyterlab-pygments in /usr/local/lib/python3.10/dist-packages (from nbconvert->notebook>=4.4.1->widgetsnbextension~=3.6.0->ipywidgets>=7.0.0->powerbiclient) (0.2.2)\n",
            "Requirement already satisfied: mistune<2,>=0.8.1 in /usr/local/lib/python3.10/dist-packages (from nbconvert->notebook>=4.4.1->widgetsnbextension~=3.6.0->ipywidgets>=7.0.0->powerbiclient) (0.8.4)\n",
            "Requirement already satisfied: nbclient>=0.5.0 in /usr/local/lib/python3.10/dist-packages (from nbconvert->notebook>=4.4.1->widgetsnbextension~=3.6.0->ipywidgets>=7.0.0->powerbiclient) (0.8.0)\n",
            "Requirement already satisfied: packaging in /usr/local/lib/python3.10/dist-packages (from nbconvert->notebook>=4.4.1->widgetsnbextension~=3.6.0->ipywidgets>=7.0.0->powerbiclient) (23.1)\n",
            "Requirement already satisfied: pandocfilters>=1.4.1 in /usr/local/lib/python3.10/dist-packages (from nbconvert->notebook>=4.4.1->widgetsnbextension~=3.6.0->ipywidgets>=7.0.0->powerbiclient) (1.5.0)\n",
            "Requirement already satisfied: tinycss2 in /usr/local/lib/python3.10/dist-packages (from nbconvert->notebook>=4.4.1->widgetsnbextension~=3.6.0->ipywidgets>=7.0.0->powerbiclient) (1.2.1)\n",
            "Requirement already satisfied: fastjsonschema in /usr/local/lib/python3.10/dist-packages (from nbformat->notebook>=4.4.1->widgetsnbextension~=3.6.0->ipywidgets>=7.0.0->powerbiclient) (2.17.1)\n",
            "Requirement already satisfied: jsonschema>=2.6 in /usr/local/lib/python3.10/dist-packages (from nbformat->notebook>=4.4.1->widgetsnbextension~=3.6.0->ipywidgets>=7.0.0->powerbiclient) (4.3.3)\n",
            "Requirement already satisfied: attrs>=17.4.0 in /usr/local/lib/python3.10/dist-packages (from jsonschema>=2.6->nbformat->notebook>=4.4.1->widgetsnbextension~=3.6.0->ipywidgets>=7.0.0->powerbiclient) (23.1.0)\n",
            "Requirement already satisfied: pyrsistent!=0.17.0,!=0.17.1,!=0.17.2,>=0.14.0 in /usr/local/lib/python3.10/dist-packages (from jsonschema>=2.6->nbformat->notebook>=4.4.1->widgetsnbextension~=3.6.0->ipywidgets>=7.0.0->powerbiclient) (0.19.3)\n",
            "Requirement already satisfied: soupsieve>1.2 in /usr/local/lib/python3.10/dist-packages (from beautifulsoup4->nbconvert->notebook>=4.4.1->widgetsnbextension~=3.6.0->ipywidgets>=7.0.0->powerbiclient) (2.4.1)\n",
            "Requirement already satisfied: webencodings in /usr/local/lib/python3.10/dist-packages (from bleach->nbconvert->notebook>=4.4.1->widgetsnbextension~=3.6.0->ipywidgets>=7.0.0->powerbiclient) (0.5.1)\n",
            "Installing collected packages: PyJWT, jedi, cryptography, jupyter-ui-poll, msal, powerbiclient\n",
            "Successfully installed PyJWT-2.7.0 cryptography-41.0.1 jedi-0.18.2 jupyter-ui-poll-0.2.2 msal-1.22.0 powerbiclient-3.0.2\n"
          ]
        }
      ]
    },
    {
      "cell_type": "code",
      "source": [
        "# Importando as Bibliotecas\n",
        "from powerbiclient import QuickVisualize, get_dataset_config, Report\n",
        "from powerbiclient.authentication import DeviceCodeLoginAuthentication"
      ],
      "metadata": {
        "id": "eKfW9lajjKpM"
      },
      "execution_count": null,
      "outputs": []
    },
    {
      "cell_type": "markdown",
      "source": [
        "Realize a autenticação para a integração ao powerbi:\n",
        "\n",
        "\n",
        "\n",
        "1.   Execute  o comando: \"DeviceCodeLoginAuthentication()\";\n",
        "\n",
        "<figure>\n",
        "<center>\n",
        "<img src='https://github.com/Ricardinho146/Analise-de-Dados-Gerados-por-Chat-GPT-Python-Power-BI-/blob/main/Auth_PB.png?raw=true' align =\"middle\" height=\"400\" width=\"750\" />\n",
        "</center>\n",
        "</figure>\n",
        "\n",
        "2.   Acesse o Link gerado após a execução do comando e insirá o codego de autenticação e realize o seu login com os dados de sua conta Power BI.\n",
        "\n",
        "<figure>\n",
        "<center>\n",
        "<img src='https://github.com/Ricardinho146/Analise-de-Dados-Gerados-por-Chat-GPT-Python-Power-BI-/blob/main/Auth_PB_2.PNG?raw=true' align =\"middle\" height=\"200\" width=\"340\" />\n",
        "</center>\n",
        "</figure>\n"
      ],
      "metadata": {
        "id": "BTPjNR-yHyum"
      }
    },
    {
      "cell_type": "code",
      "source": [
        "device_auth = DeviceCodeLoginAuthentication()"
      ],
      "metadata": {
        "colab": {
          "base_uri": "https://localhost:8080/"
        },
        "id": "zk4enNKuVjWH",
        "outputId": "ddd7158f-616e-40a5-9af7-33cf74ccd009"
      },
      "execution_count": null,
      "outputs": [
        {
          "output_type": "stream",
          "name": "stdout",
          "text": [
            "Performing device flow authentication. Please follow the instructions below.\n",
            "To sign in, use a web browser to open the page https://microsoft.com/devicelogin and enter the code CZJVQTYFB to authenticate.\n",
            "\n",
            "Device flow authentication successfully completed.\n",
            "You are now logged in .\n",
            "\n",
            "The result should be passed only to trusted code in your notebook.\n"
          ]
        }
      ]
    },
    {
      "cell_type": "markdown",
      "source": [
        "Importe a Biblioteca \"gooogle.colab\" \"output\", e execute a função \"enable_custom_widget_manager\", para que o recurso do Power BI possa renderizar o dashboard."
      ],
      "metadata": {
        "id": "jDciIRy5RgwO"
      }
    },
    {
      "cell_type": "code",
      "source": [
        "from google.colab import output\n",
        "output.enable_custom_widget_manager()"
      ],
      "metadata": {
        "id": "KaKLw-8YaKaI"
      },
      "execution_count": null,
      "outputs": []
    },
    {
      "cell_type": "markdown",
      "source": [
        "Elabore a variável \"PBI_visualize\" para armazenar o recurso \"QuickVisualize\" inserido o DataFrame e o autenticador.\n",
        "Em seguida execute a variável \"PBI_visualize\" para redenrização do Dashboard."
      ],
      "metadata": {
        "id": "aqjgUvNGSHGS"
      }
    },
    {
      "cell_type": "code",
      "source": [
        "# Create a Power BI report from your data\n",
        "PBI_visualize = QuickVisualize(get_dataset_config(pcb_sales_df), auth=device_auth)\n",
        "#\n",
        "# Render the new report\n",
        "PBI_visualize\n"
      ],
      "metadata": {
        "colab": {
          "base_uri": "https://localhost:8080/",
          "height": 737,
          "referenced_widgets": [
            "a7cd3189b2534a19a1ad490e9e9f1673",
            "05e622d453c14e558cff588604fcd082"
          ]
        },
        "id": "GScVeWGa1YKg",
        "outputId": "947f898e-13d4-4ac7-aeff-4d9b80293814"
      },
      "execution_count": null,
      "outputs": [
        {
          "output_type": "display_data",
          "data": {
            "text/plain": [
              "QuickVisualize()"
            ],
            "application/vnd.jupyter.widget-view+json": {
              "version_major": 2,
              "version_minor": 0,
              "model_id": "a7cd3189b2534a19a1ad490e9e9f1673"
            }
          },
          "metadata": {
            "application/vnd.jupyter.widget-view+json": {
              "colab": {
                "custom_widget_manager": {
                  "url": "https://ssl.gstatic.com/colaboratory-static/widgets/colab-cdn-widget-manager/b3e629b1971e1542/manager.min.js"
                }
              }
            }
          }
        }
      ]
    },
    {
      "cell_type": "markdown",
      "source": [
        "Após a Geração do Dashboard é possivel editar as visualizações e salvar uma cópia em seu Work Space do Power BI Serviço.\n",
        "\n",
        "<figure>\n",
        "<center>\n",
        "<img src='https://github.com/Ricardinho146/Analise-de-Dados-Gerados-por-Chat-GPT-Python-Power-BI-/blob/main/dash_PB_2.png?raw=true' align =\"middle\" height=\"380\" width=\"673\" />\n",
        "</center>\n",
        "</figure>"
      ],
      "metadata": {
        "id": "-qECFjC3SN4a"
      }
    },
    {
      "cell_type": "markdown",
      "source": [
        "# Conclusão:\n",
        "\n",
        "\n",
        "\n",
        "1.   O CHATGPT é uma ótima opção para pessoas que buscam Datasets para a pratica de análise de dados entre outras aplicações;\n",
        "2.   A integração do Power BI ao Jupyter Notebook é uma boa opção para análises rápidas porém com pouca profundidade, pois há restrições quanto a edição das visualizações fazendo necessário  a edição final do Dashboard diretamente na Plataforma do [Power BI](https://app.powerbi.com/).\n",
        "\n"
      ],
      "metadata": {
        "id": "YRM8cx6PTMjZ"
      }
    },
    {
      "cell_type": "code",
      "source": [],
      "metadata": {
        "id": "36p7e_EYTGYN"
      },
      "execution_count": null,
      "outputs": []
    }
  ]
}